{
 "cells": [
  {
   "cell_type": "markdown",
   "id": "915e6a52",
   "metadata": {
    "papermill": {
     "duration": 0.009398,
     "end_time": "2022-09-22T14:18:14.045646",
     "exception": false,
     "start_time": "2022-09-22T14:18:14.036248",
     "status": "completed"
    },
    "tags": []
   },
   "source": [
    "**This notebook is an exercise in the [Data Cleaning](https://www.kaggle.com/learn/data-cleaning) course.  You can reference the tutorial at [this link](https://www.kaggle.com/alexisbcook/inconsistent-data-entry).**\n",
    "\n",
    "---\n"
   ]
  },
  {
   "cell_type": "markdown",
   "id": "b7e5ccc3",
   "metadata": {
    "papermill": {
     "duration": 0.004936,
     "end_time": "2022-09-22T14:18:14.056868",
     "exception": false,
     "start_time": "2022-09-22T14:18:14.051932",
     "status": "completed"
    },
    "tags": []
   },
   "source": [
    "In this exercise, you'll apply what you learned in the **Inconsistent data entry** tutorial.\n",
    "\n",
    "# Setup\n",
    "\n",
    "The questions below will give you feedback on your work. Run the following cell to set up the feedback system."
   ]
  },
  {
   "cell_type": "code",
   "execution_count": 1,
   "id": "047bcd80",
   "metadata": {
    "execution": {
     "iopub.execute_input": "2022-09-22T14:18:14.070002Z",
     "iopub.status.busy": "2022-09-22T14:18:14.069249Z",
     "iopub.status.idle": "2022-09-22T14:18:14.213873Z",
     "shell.execute_reply": "2022-09-22T14:18:14.212238Z"
    },
    "papermill": {
     "duration": 0.154878,
     "end_time": "2022-09-22T14:18:14.216998",
     "exception": false,
     "start_time": "2022-09-22T14:18:14.062120",
     "status": "completed"
    },
    "tags": []
   },
   "outputs": [
    {
     "name": "stdout",
     "output_type": "stream",
     "text": [
      "Setup Complete\n"
     ]
    }
   ],
   "source": [
    "from learntools.core import binder\n",
    "binder.bind(globals())\n",
    "from learntools.data_cleaning.ex5 import *\n",
    "print(\"Setup Complete\")"
   ]
  },
  {
   "cell_type": "markdown",
   "id": "bed717ee",
   "metadata": {
    "papermill": {
     "duration": 0.005223,
     "end_time": "2022-09-22T14:18:14.228004",
     "exception": false,
     "start_time": "2022-09-22T14:18:14.222781",
     "status": "completed"
    },
    "tags": []
   },
   "source": [
    "# Get our environment set up\n",
    "\n",
    "The first thing we'll need to do is load in the libraries and dataset we'll be using.  We use the same dataset from the tutorial."
   ]
  },
  {
   "cell_type": "code",
   "execution_count": 2,
   "id": "8228dfe9",
   "metadata": {
    "execution": {
     "iopub.execute_input": "2022-09-22T14:18:14.240915Z",
     "iopub.status.busy": "2022-09-22T14:18:14.240445Z",
     "iopub.status.idle": "2022-09-22T14:18:14.261812Z",
     "shell.execute_reply": "2022-09-22T14:18:14.260341Z"
    },
    "papermill": {
     "duration": 0.03168,
     "end_time": "2022-09-22T14:18:14.264992",
     "exception": false,
     "start_time": "2022-09-22T14:18:14.233312",
     "status": "completed"
    },
    "tags": []
   },
   "outputs": [],
   "source": [
    "# modules we'll use\n",
    "import pandas as pd\n",
    "import numpy as np\n",
    "\n",
    "# helpful modules\n",
    "import fuzzywuzzy\n",
    "from fuzzywuzzy import process\n",
    "import chardet\n",
    "\n",
    "# read in all our data\n",
    "professors = pd.read_csv(\"../input/pakistan-intellectual-capital/pakistan_intellectual_capital.csv\")\n",
    "\n",
    "# set seed for reproducibility\n",
    "np.random.seed(0)"
   ]
  },
  {
   "cell_type": "markdown",
   "id": "849bdbef",
   "metadata": {
    "papermill": {
     "duration": 0.00521,
     "end_time": "2022-09-22T14:18:14.275883",
     "exception": false,
     "start_time": "2022-09-22T14:18:14.270673",
     "status": "completed"
    },
    "tags": []
   },
   "source": [
    "Next, we'll redo all of the work that we did in the tutorial."
   ]
  },
  {
   "cell_type": "code",
   "execution_count": 3,
   "id": "babee2ea",
   "metadata": {
    "execution": {
     "iopub.execute_input": "2022-09-22T14:18:14.288627Z",
     "iopub.status.busy": "2022-09-22T14:18:14.288180Z",
     "iopub.status.idle": "2022-09-22T14:18:14.306431Z",
     "shell.execute_reply": "2022-09-22T14:18:14.304914Z"
    },
    "papermill": {
     "duration": 0.028382,
     "end_time": "2022-09-22T14:18:14.309657",
     "exception": false,
     "start_time": "2022-09-22T14:18:14.281275",
     "status": "completed"
    },
    "tags": []
   },
   "outputs": [
    {
     "name": "stdout",
     "output_type": "stream",
     "text": [
      "All done!\n"
     ]
    }
   ],
   "source": [
    "# convert to lower case\n",
    "professors['Country'] = professors['Country'].str.lower()\n",
    "# remove trailing white spaces\n",
    "professors['Country'] = professors['Country'].str.strip()\n",
    "\n",
    "# get the top 10 closest matches to \"south korea\"\n",
    "countries = professors['Country'].unique()\n",
    "matches = fuzzywuzzy.process.extract(\"south korea\", countries, limit=10, scorer=fuzzywuzzy.fuzz.token_sort_ratio)\n",
    "\n",
    "def replace_matches_in_column(df, column, string_to_match, min_ratio = 47):\n",
    "    # get a list of unique strings\n",
    "    strings = df[column].unique()\n",
    "    \n",
    "    # get the top 10 closest matches to our input string\n",
    "    matches = fuzzywuzzy.process.extract(string_to_match, strings, \n",
    "                                         limit=10, scorer=fuzzywuzzy.fuzz.token_sort_ratio)\n",
    "\n",
    "    # only get matches with a ratio > 90\n",
    "    close_matches = [matches[0] for matches in matches if matches[1] >= min_ratio]\n",
    "\n",
    "    # get the rows of all the close matches in our dataframe\n",
    "    rows_with_matches = df[column].isin(close_matches)\n",
    "\n",
    "    # replace all rows with close matches with the input matches \n",
    "    df.loc[rows_with_matches, column] = string_to_match\n",
    "    \n",
    "    # let us know the function's done\n",
    "    print(\"All done!\")\n",
    "    \n",
    "replace_matches_in_column(df=professors, column='Country', string_to_match=\"south korea\")\n",
    "countries = professors['Country'].unique()"
   ]
  },
  {
   "cell_type": "markdown",
   "id": "e955912f",
   "metadata": {
    "papermill": {
     "duration": 0.005076,
     "end_time": "2022-09-22T14:18:14.320277",
     "exception": false,
     "start_time": "2022-09-22T14:18:14.315201",
     "status": "completed"
    },
    "tags": []
   },
   "source": [
    "# 1) Examine another column\n",
    "\n",
    "Write code below to take a look at all the unique values in the \"Graduated from\" column."
   ]
  },
  {
   "cell_type": "code",
   "execution_count": 4,
   "id": "a25322e3",
   "metadata": {
    "execution": {
     "iopub.execute_input": "2022-09-22T14:18:14.332756Z",
     "iopub.status.busy": "2022-09-22T14:18:14.332315Z",
     "iopub.status.idle": "2022-09-22T14:18:14.339000Z",
     "shell.execute_reply": "2022-09-22T14:18:14.337417Z"
    },
    "papermill": {
     "duration": 0.015998,
     "end_time": "2022-09-22T14:18:14.341415",
     "exception": false,
     "start_time": "2022-09-22T14:18:14.325417",
     "status": "completed"
    },
    "tags": []
   },
   "outputs": [],
   "source": [
    "# TODO: Your code here\n",
    "\n",
    "unis = professors['Graduated from'].unique()"
   ]
  },
  {
   "cell_type": "markdown",
   "id": "14b1afb0",
   "metadata": {
    "papermill": {
     "duration": 0.004994,
     "end_time": "2022-09-22T14:18:14.351915",
     "exception": false,
     "start_time": "2022-09-22T14:18:14.346921",
     "status": "completed"
    },
    "tags": []
   },
   "source": [
    "Do you notice any inconsistencies in the data?  Can any of the inconsistencies in the data be fixed by removing white spaces at the beginning and end of cells?\n",
    "\n",
    "Once you have answered these questions, run the code cell below to get credit for your work."
   ]
  },
  {
   "cell_type": "code",
   "execution_count": 5,
   "id": "4f1c18fc",
   "metadata": {
    "execution": {
     "iopub.execute_input": "2022-09-22T14:18:14.364736Z",
     "iopub.status.busy": "2022-09-22T14:18:14.364304Z",
     "iopub.status.idle": "2022-09-22T14:18:14.375806Z",
     "shell.execute_reply": "2022-09-22T14:18:14.374621Z"
    },
    "papermill": {
     "duration": 0.021546,
     "end_time": "2022-09-22T14:18:14.378748",
     "exception": false,
     "start_time": "2022-09-22T14:18:14.357202",
     "status": "completed"
    },
    "tags": []
   },
   "outputs": [
    {
     "data": {
      "application/javascript": [
       "parent.postMessage({\"jupyterEvent\": \"custom.exercise_interaction\", \"data\": {\"outcomeType\": 1, \"valueTowardsCompletion\": 0.3333333333333333, \"interactionType\": 1, \"questionType\": 4, \"questionId\": \"1_ExamineProvince\", \"learnToolsVersion\": \"0.3.4\", \"failureMessage\": \"\", \"exceptionClass\": \"\", \"trace\": \"\"}}, \"*\")"
      ],
      "text/plain": [
       "<IPython.core.display.Javascript object>"
      ]
     },
     "metadata": {},
     "output_type": "display_data"
    },
    {
     "data": {
      "text/markdown": [
       "<span style=\"color:#33cc33\">Correct:</span> \n",
       "\n",
       "There are inconsistencies that can be fixed by removing white spaces at the beginning and end of cells.  For instance, \"University of Central Florida\" and \" University of Central Florida\" both appear in the column."
      ],
      "text/plain": [
       "Correct: \n",
       "\n",
       "There are inconsistencies that can be fixed by removing white spaces at the beginning and end of cells.  For instance, \"University of Central Florida\" and \" University of Central Florida\" both appear in the column."
      ]
     },
     "metadata": {},
     "output_type": "display_data"
    }
   ],
   "source": [
    "# Check your answer (Run this code cell to receive credit!)\n",
    "q1.check()"
   ]
  },
  {
   "cell_type": "code",
   "execution_count": 6,
   "id": "e64670da",
   "metadata": {
    "execution": {
     "iopub.execute_input": "2022-09-22T14:18:14.392509Z",
     "iopub.status.busy": "2022-09-22T14:18:14.391782Z",
     "iopub.status.idle": "2022-09-22T14:18:14.401180Z",
     "shell.execute_reply": "2022-09-22T14:18:14.399986Z"
    },
    "papermill": {
     "duration": 0.019161,
     "end_time": "2022-09-22T14:18:14.403770",
     "exception": false,
     "start_time": "2022-09-22T14:18:14.384609",
     "status": "completed"
    },
    "tags": []
   },
   "outputs": [
    {
     "data": {
      "application/javascript": [
       "parent.postMessage({\"jupyterEvent\": \"custom.exercise_interaction\", \"data\": {\"interactionType\": 2, \"questionType\": 4, \"questionId\": \"1_ExamineProvince\", \"learnToolsVersion\": \"0.3.4\", \"valueTowardsCompletion\": 0.0, \"failureMessage\": \"\", \"exceptionClass\": \"\", \"trace\": \"\", \"outcomeType\": 4}}, \"*\")"
      ],
      "text/plain": [
       "<IPython.core.display.Javascript object>"
      ]
     },
     "metadata": {},
     "output_type": "display_data"
    },
    {
     "data": {
      "text/markdown": [
       "<span style=\"color:#3366cc\">Hint:</span> Use `unis = professors['Graduated from'].unique()` to take a look at the unique values in the 'Graduated from' column. You may find it useful to sort the data before printing it."
      ],
      "text/plain": [
       "Hint: Use `unis = professors['Graduated from'].unique()` to take a look at the unique values in the 'Graduated from' column. You may find it useful to sort the data before printing it."
      ]
     },
     "metadata": {},
     "output_type": "display_data"
    }
   ],
   "source": [
    "# Line below will give you a hint\n",
    "q1.hint()"
   ]
  },
  {
   "cell_type": "markdown",
   "id": "17faf853",
   "metadata": {
    "papermill": {
     "duration": 0.005576,
     "end_time": "2022-09-22T14:18:14.415819",
     "exception": false,
     "start_time": "2022-09-22T14:18:14.410243",
     "status": "completed"
    },
    "tags": []
   },
   "source": [
    "# 2) Do some text pre-processing\n",
    "\n",
    "Convert every entry in the \"Graduated from\" column in the `professors` DataFrame to remove white spaces at the beginning and end of cells."
   ]
  },
  {
   "cell_type": "code",
   "execution_count": 7,
   "id": "9cb7a505",
   "metadata": {
    "execution": {
     "iopub.execute_input": "2022-09-22T14:18:14.430669Z",
     "iopub.status.busy": "2022-09-22T14:18:14.430021Z",
     "iopub.status.idle": "2022-09-22T14:18:14.444503Z",
     "shell.execute_reply": "2022-09-22T14:18:14.443457Z"
    },
    "papermill": {
     "duration": 0.025406,
     "end_time": "2022-09-22T14:18:14.446997",
     "exception": false,
     "start_time": "2022-09-22T14:18:14.421591",
     "status": "completed"
    },
    "tags": []
   },
   "outputs": [
    {
     "data": {
      "application/javascript": [
       "parent.postMessage({\"jupyterEvent\": \"custom.exercise_interaction\", \"data\": {\"outcomeType\": 1, \"valueTowardsCompletion\": 0.3333333333333333, \"interactionType\": 1, \"questionType\": 1, \"questionId\": \"2_TextProcessing\", \"learnToolsVersion\": \"0.3.4\", \"failureMessage\": \"\", \"exceptionClass\": \"\", \"trace\": \"\"}}, \"*\")"
      ],
      "text/plain": [
       "<IPython.core.display.Javascript object>"
      ]
     },
     "metadata": {},
     "output_type": "display_data"
    },
    {
     "data": {
      "text/markdown": [
       "<span style=\"color:#33cc33\">Correct</span>"
      ],
      "text/plain": [
       "Correct"
      ]
     },
     "metadata": {},
     "output_type": "display_data"
    }
   ],
   "source": [
    "# TODO: Your code here\n",
    "\n",
    "professors['Graduated from'] = professors['Graduated from'].str.strip()\n",
    "# Check your answer\n",
    "q2.check()"
   ]
  },
  {
   "cell_type": "code",
   "execution_count": 8,
   "id": "8452bd30",
   "metadata": {
    "execution": {
     "iopub.execute_input": "2022-09-22T14:18:14.461554Z",
     "iopub.status.busy": "2022-09-22T14:18:14.460904Z",
     "iopub.status.idle": "2022-09-22T14:18:14.474258Z",
     "shell.execute_reply": "2022-09-22T14:18:14.473218Z"
    },
    "papermill": {
     "duration": 0.024126,
     "end_time": "2022-09-22T14:18:14.477103",
     "exception": false,
     "start_time": "2022-09-22T14:18:14.452977",
     "status": "completed"
    },
    "tags": []
   },
   "outputs": [
    {
     "data": {
      "application/javascript": [
       "parent.postMessage({\"jupyterEvent\": \"custom.exercise_interaction\", \"data\": {\"interactionType\": 2, \"questionType\": 1, \"questionId\": \"2_TextProcessing\", \"learnToolsVersion\": \"0.3.4\", \"valueTowardsCompletion\": 0.0, \"failureMessage\": \"\", \"exceptionClass\": \"\", \"trace\": \"\", \"outcomeType\": 4}}, \"*\")"
      ],
      "text/plain": [
       "<IPython.core.display.Javascript object>"
      ]
     },
     "metadata": {},
     "output_type": "display_data"
    },
    {
     "data": {
      "text/markdown": [
       "<span style=\"color:#3366cc\">Hint:</span> In the tutorial, you did the same operation on a different column."
      ],
      "text/plain": [
       "Hint: In the tutorial, you did the same operation on a different column."
      ]
     },
     "metadata": {},
     "output_type": "display_data"
    },
    {
     "data": {
      "application/javascript": [
       "parent.postMessage({\"jupyterEvent\": \"custom.exercise_interaction\", \"data\": {\"interactionType\": 3, \"questionType\": 1, \"questionId\": \"2_TextProcessing\", \"learnToolsVersion\": \"0.3.4\", \"valueTowardsCompletion\": 0.0, \"failureMessage\": \"\", \"exceptionClass\": \"\", \"trace\": \"\", \"outcomeType\": 4}}, \"*\")"
      ],
      "text/plain": [
       "<IPython.core.display.Javascript object>"
      ]
     },
     "metadata": {},
     "output_type": "display_data"
    },
    {
     "data": {
      "text/markdown": [
       "<span style=\"color:#33cc99\">Solution:</span> \n",
       "```python\n",
       "professors['Graduated from'] = professors['Graduated from'].str.strip()\n",
       "\n",
       "```"
      ],
      "text/plain": [
       "Solution: \n",
       "```python\n",
       "professors['Graduated from'] = professors['Graduated from'].str.strip()\n",
       "\n",
       "```"
      ]
     },
     "metadata": {},
     "output_type": "display_data"
    }
   ],
   "source": [
    "# Lines below will give you a hint or solution code\n",
    "q2.hint()\n",
    "q2.solution()"
   ]
  },
  {
   "cell_type": "markdown",
   "id": "0db24a7d",
   "metadata": {
    "papermill": {
     "duration": 0.006081,
     "end_time": "2022-09-22T14:18:14.489797",
     "exception": false,
     "start_time": "2022-09-22T14:18:14.483716",
     "status": "completed"
    },
    "tags": []
   },
   "source": [
    "# 3) Continue working with countries\n",
    "\n",
    "In the tutorial, we focused on cleaning up inconsistencies in the \"Country\" column.  Run the code cell below to view the list of unique values that we ended with."
   ]
  },
  {
   "cell_type": "code",
   "execution_count": 9,
   "id": "4c30894b",
   "metadata": {
    "execution": {
     "iopub.execute_input": "2022-09-22T14:18:14.505331Z",
     "iopub.status.busy": "2022-09-22T14:18:14.504534Z",
     "iopub.status.idle": "2022-09-22T14:18:14.512580Z",
     "shell.execute_reply": "2022-09-22T14:18:14.511308Z"
    },
    "papermill": {
     "duration": 0.019289,
     "end_time": "2022-09-22T14:18:14.515600",
     "exception": false,
     "start_time": "2022-09-22T14:18:14.496311",
     "status": "completed"
    },
    "tags": []
   },
   "outputs": [
    {
     "data": {
      "text/plain": [
       "array(['australia', 'austria', 'canada', 'china', 'finland', 'france',\n",
       "       'germany', 'greece', 'hongkong', 'ireland', 'italy', 'japan',\n",
       "       'macau', 'malaysia', 'mauritius', 'netherland', 'new zealand',\n",
       "       'norway', 'pakistan', 'portugal', 'russian federation',\n",
       "       'saudi arabia', 'scotland', 'singapore', 'south korea', 'spain',\n",
       "       'sweden', 'thailand', 'turkey', 'uk', 'urbana', 'usa', 'usofa'],\n",
       "      dtype=object)"
      ]
     },
     "execution_count": 9,
     "metadata": {},
     "output_type": "execute_result"
    }
   ],
   "source": [
    "# get all the unique values in the 'City' column\n",
    "countries = professors['Country'].unique()\n",
    "\n",
    "# sort them alphabetically and then take a closer look\n",
    "countries.sort()\n",
    "countries"
   ]
  },
  {
   "cell_type": "markdown",
   "id": "20fa36ac",
   "metadata": {
    "papermill": {
     "duration": 0.007106,
     "end_time": "2022-09-22T14:18:14.529614",
     "exception": false,
     "start_time": "2022-09-22T14:18:14.522508",
     "status": "completed"
    },
    "tags": []
   },
   "source": [
    "Take another look at the \"Country\" column and see if there's any more data cleaning we need to do.\n",
    "\n",
    "It looks like 'usa' and 'usofa' should be the same country.  Correct the \"Country\" column in the dataframe to replace 'usofa' with 'usa'.\n",
    "\n",
    "**Use the most recent version of the DataFrame (with the whitespaces at the beginning and end of cells removed) from question 2.**"
   ]
  },
  {
   "cell_type": "code",
   "execution_count": 10,
   "id": "76f90c3c",
   "metadata": {
    "execution": {
     "iopub.execute_input": "2022-09-22T14:18:14.545849Z",
     "iopub.status.busy": "2022-09-22T14:18:14.545164Z",
     "iopub.status.idle": "2022-09-22T14:18:14.561185Z",
     "shell.execute_reply": "2022-09-22T14:18:14.559192Z"
    },
    "papermill": {
     "duration": 0.028009,
     "end_time": "2022-09-22T14:18:14.564434",
     "exception": false,
     "start_time": "2022-09-22T14:18:14.536425",
     "status": "completed"
    },
    "tags": []
   },
   "outputs": [
    {
     "name": "stdout",
     "output_type": "stream",
     "text": [
      "All done!\n"
     ]
    },
    {
     "data": {
      "application/javascript": [
       "parent.postMessage({\"jupyterEvent\": \"custom.exercise_interaction\", \"data\": {\"outcomeType\": 1, \"valueTowardsCompletion\": 0.3333333333333333, \"interactionType\": 1, \"questionType\": 1, \"questionId\": \"3_WorkingWithCities\", \"learnToolsVersion\": \"0.3.4\", \"failureMessage\": \"\", \"exceptionClass\": \"\", \"trace\": \"\"}}, \"*\")"
      ],
      "text/plain": [
       "<IPython.core.display.Javascript object>"
      ]
     },
     "metadata": {},
     "output_type": "display_data"
    },
    {
     "data": {
      "text/markdown": [
       "<span style=\"color:#33cc33\">Correct</span>"
      ],
      "text/plain": [
       "Correct"
      ]
     },
     "metadata": {},
     "output_type": "display_data"
    }
   ],
   "source": [
    "# TODO: Your code here!\n",
    "matches = fuzzywuzzy.process.extract(\"usa\", countries, limit=10, scorer=fuzzywuzzy.fuzz.token_sort_ratio)\n",
    "replace_matches_in_column(df=professors, column='Country', string_to_match=\"usa\", min_ratio=70)\n",
    "\n",
    "# Check your answer\n",
    "q3.check()"
   ]
  },
  {
   "cell_type": "code",
   "execution_count": 11,
   "id": "bfa2c09d",
   "metadata": {
    "execution": {
     "iopub.execute_input": "2022-09-22T14:18:14.581535Z",
     "iopub.status.busy": "2022-09-22T14:18:14.581054Z",
     "iopub.status.idle": "2022-09-22T14:18:14.591260Z",
     "shell.execute_reply": "2022-09-22T14:18:14.589691Z"
    },
    "papermill": {
     "duration": 0.022142,
     "end_time": "2022-09-22T14:18:14.593755",
     "exception": false,
     "start_time": "2022-09-22T14:18:14.571613",
     "status": "completed"
    },
    "tags": []
   },
   "outputs": [
    {
     "data": {
      "application/javascript": [
       "parent.postMessage({\"jupyterEvent\": \"custom.exercise_interaction\", \"data\": {\"interactionType\": 3, \"questionType\": 1, \"questionId\": \"3_WorkingWithCities\", \"learnToolsVersion\": \"0.3.4\", \"valueTowardsCompletion\": 0.0, \"failureMessage\": \"\", \"exceptionClass\": \"\", \"trace\": \"\", \"outcomeType\": 4}}, \"*\")"
      ],
      "text/plain": [
       "<IPython.core.display.Javascript object>"
      ]
     },
     "metadata": {},
     "output_type": "display_data"
    },
    {
     "data": {
      "text/markdown": [
       "<span style=\"color:#33cc99\">Solution:</span> \n",
       "```python\n",
       "matches = fuzzywuzzy.process.extract(\"usa\", countries, limit=10, scorer=fuzzywuzzy.fuzz.token_sort_ratio)\n",
       "replace_matches_in_column(df=professors, column='Country', string_to_match=\"usa\", min_ratio=70)\n",
       "\n",
       "```"
      ],
      "text/plain": [
       "Solution: \n",
       "```python\n",
       "matches = fuzzywuzzy.process.extract(\"usa\", countries, limit=10, scorer=fuzzywuzzy.fuzz.token_sort_ratio)\n",
       "replace_matches_in_column(df=professors, column='Country', string_to_match=\"usa\", min_ratio=70)\n",
       "\n",
       "```"
      ]
     },
     "metadata": {},
     "output_type": "display_data"
    }
   ],
   "source": [
    "# Lines below will give you a hint or solution code\n",
    "#q3.hint()\n",
    "q3.solution()"
   ]
  },
  {
   "cell_type": "markdown",
   "id": "252ccc3b",
   "metadata": {
    "papermill": {
     "duration": 0.007165,
     "end_time": "2022-09-22T14:18:14.608221",
     "exception": false,
     "start_time": "2022-09-22T14:18:14.601056",
     "status": "completed"
    },
    "tags": []
   },
   "source": [
    "# Congratulations!\n",
    "\n",
    "Congratulations for completing the **Data Cleaning** course on Kaggle Learn!\n",
    "\n",
    "To practice your new skills, you're encouraged to download and investigate some of [Kaggle's Datasets](https://www.kaggle.com/datasets)."
   ]
  },
  {
   "cell_type": "markdown",
   "id": "1c693855",
   "metadata": {
    "papermill": {
     "duration": 0.006806,
     "end_time": "2022-09-22T14:18:14.622073",
     "exception": false,
     "start_time": "2022-09-22T14:18:14.615267",
     "status": "completed"
    },
    "tags": []
   },
   "source": [
    "---\n",
    "\n",
    "\n",
    "\n",
    "\n",
    "*Have questions or comments? Visit the [course discussion forum](https://www.kaggle.com/learn/data-cleaning/discussion) to chat with other learners.*"
   ]
  }
 ],
 "metadata": {
  "kernelspec": {
   "display_name": "Python 3",
   "language": "python",
   "name": "python3"
  },
  "language_info": {
   "codemirror_mode": {
    "name": "ipython",
    "version": 3
   },
   "file_extension": ".py",
   "mimetype": "text/x-python",
   "name": "python",
   "nbconvert_exporter": "python",
   "pygments_lexer": "ipython3",
   "version": "3.7.12"
  },
  "papermill": {
   "default_parameters": {},
   "duration": 10.897105,
   "end_time": "2022-09-22T14:18:15.452819",
   "environment_variables": {},
   "exception": null,
   "input_path": "__notebook__.ipynb",
   "output_path": "__notebook__.ipynb",
   "parameters": {},
   "start_time": "2022-09-22T14:18:04.555714",
   "version": "2.3.4"
  }
 },
 "nbformat": 4,
 "nbformat_minor": 5
}
