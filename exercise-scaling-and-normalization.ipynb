{
 "cells": [
  {
   "cell_type": "markdown",
   "id": "15d02068",
   "metadata": {
    "papermill": {
     "duration": 0.006607,
     "end_time": "2022-09-22T14:15:46.237597",
     "exception": false,
     "start_time": "2022-09-22T14:15:46.230990",
     "status": "completed"
    },
    "tags": []
   },
   "source": [
    "**This notebook is an exercise in the [Data Cleaning](https://www.kaggle.com/learn/data-cleaning) course.  You can reference the tutorial at [this link](https://www.kaggle.com/alexisbcook/scaling-and-normalization).**\n",
    "\n",
    "---\n"
   ]
  },
  {
   "cell_type": "markdown",
   "id": "c1780a0e",
   "metadata": {
    "papermill": {
     "duration": 0.0051,
     "end_time": "2022-09-22T14:15:46.248390",
     "exception": false,
     "start_time": "2022-09-22T14:15:46.243290",
     "status": "completed"
    },
    "tags": []
   },
   "source": [
    "In this exercise, you'll apply what you learned in the **Scaling and normalization** tutorial.\n",
    "\n",
    "# Setup\n",
    "\n",
    "The questions below will give you feedback on your work. Run the following cell to set up the feedback system."
   ]
  },
  {
   "cell_type": "code",
   "execution_count": 1,
   "id": "7548b392",
   "metadata": {
    "execution": {
     "iopub.execute_input": "2022-09-22T14:15:46.261925Z",
     "iopub.status.busy": "2022-09-22T14:15:46.260728Z",
     "iopub.status.idle": "2022-09-22T14:15:50.201868Z",
     "shell.execute_reply": "2022-09-22T14:15:50.200372Z"
    },
    "papermill": {
     "duration": 3.950917,
     "end_time": "2022-09-22T14:15:50.204755",
     "exception": false,
     "start_time": "2022-09-22T14:15:46.253838",
     "status": "completed"
    },
    "tags": []
   },
   "outputs": [
    {
     "name": "stdout",
     "output_type": "stream",
     "text": [
      "Setup Complete\n"
     ]
    }
   ],
   "source": [
    "from learntools.core import binder\n",
    "binder.bind(globals())\n",
    "from learntools.data_cleaning.ex2 import *\n",
    "print(\"Setup Complete\")"
   ]
  },
  {
   "cell_type": "markdown",
   "id": "d57a843e",
   "metadata": {
    "papermill": {
     "duration": 0.005353,
     "end_time": "2022-09-22T14:15:50.216078",
     "exception": false,
     "start_time": "2022-09-22T14:15:50.210725",
     "status": "completed"
    },
    "tags": []
   },
   "source": [
    "# Get our environment set up\n",
    "\n",
    "To practice scaling and normalization, we're going to use a [dataset of Kickstarter campaigns](https://www.kaggle.com/kemical/kickstarter-projects). (Kickstarter is a website where people can ask people to invest in various projects and concept products.)\n",
    "\n",
    "The next code cell loads in the libraries and dataset we'll be using. "
   ]
  },
  {
   "cell_type": "code",
   "execution_count": 2,
   "id": "754dff71",
   "metadata": {
    "execution": {
     "iopub.execute_input": "2022-09-22T14:15:50.229316Z",
     "iopub.status.busy": "2022-09-22T14:15:50.228420Z",
     "iopub.status.idle": "2022-09-22T14:15:51.711069Z",
     "shell.execute_reply": "2022-09-22T14:15:51.710048Z"
    },
    "papermill": {
     "duration": 1.492025,
     "end_time": "2022-09-22T14:15:51.713593",
     "exception": false,
     "start_time": "2022-09-22T14:15:50.221568",
     "status": "completed"
    },
    "tags": []
   },
   "outputs": [],
   "source": [
    "# modules we'll use\n",
    "import pandas as pd\n",
    "import numpy as np\n",
    "\n",
    "# for Box-Cox Transformation\n",
    "from scipy import stats\n",
    "\n",
    "# for min_max scaling\n",
    "from mlxtend.preprocessing import minmax_scaling\n",
    "\n",
    "# plotting modules\n",
    "import seaborn as sns\n",
    "import matplotlib.pyplot as plt\n",
    "\n",
    "# read in all our data\n",
    "kickstarters_2017 = pd.read_csv(\"../input/kickstarter-projects/ks-projects-201801.csv\")\n",
    "\n",
    "# set seed for reproducibility\n",
    "np.random.seed(0)"
   ]
  },
  {
   "cell_type": "markdown",
   "id": "25e820f9",
   "metadata": {
    "papermill": {
     "duration": 0.005205,
     "end_time": "2022-09-22T14:15:51.724525",
     "exception": false,
     "start_time": "2022-09-22T14:15:51.719320",
     "status": "completed"
    },
    "tags": []
   },
   "source": [
    "Let's start by scaling the goals of each campaign, which is how much money they were asking for.  After scaling, all values lie between 0 and 1."
   ]
  },
  {
   "cell_type": "code",
   "execution_count": 3,
   "id": "daaa7aa9",
   "metadata": {
    "execution": {
     "iopub.execute_input": "2022-09-22T14:15:51.737549Z",
     "iopub.status.busy": "2022-09-22T14:15:51.736699Z",
     "iopub.status.idle": "2022-09-22T14:15:51.781726Z",
     "shell.execute_reply": "2022-09-22T14:15:51.780198Z"
    },
    "papermill": {
     "duration": 0.054497,
     "end_time": "2022-09-22T14:15:51.784557",
     "exception": false,
     "start_time": "2022-09-22T14:15:51.730060",
     "status": "completed"
    },
    "tags": []
   },
   "outputs": [
    {
     "name": "stdout",
     "output_type": "stream",
     "text": [
      "Original data\n",
      "Preview:\n",
      "    usd_goal_real\n",
      "0        1533.95\n",
      "1       30000.00\n",
      "2       45000.00\n",
      "3        5000.00\n",
      "4       19500.00\n",
      "Minimum value: 0.01 \n",
      "Maximum value: 166361390.71\n",
      "______________________________\n",
      "\n",
      "Scaled data\n",
      "Preview:\n",
      "    usd_goal_real\n",
      "0       0.000009\n",
      "1       0.000180\n",
      "2       0.000270\n",
      "3       0.000030\n",
      "4       0.000117\n",
      "Minimum value: 0.0 \n",
      "Maximum value: 1.0\n"
     ]
    }
   ],
   "source": [
    "# select the usd_goal_real column\n",
    "original_data = pd.DataFrame(kickstarters_2017.usd_goal_real)\n",
    "\n",
    "# scale the goals from 0 to 1\n",
    "scaled_data = minmax_scaling(original_data, columns=['usd_goal_real'])\n",
    "\n",
    "print('Original data\\nPreview:\\n', original_data.head())\n",
    "print('Minimum value:', float(original_data.min()),\n",
    "      '\\nMaximum value:', float(original_data.max()))\n",
    "print('_'*30)\n",
    "\n",
    "print('\\nScaled data\\nPreview:\\n', scaled_data.head())\n",
    "print('Minimum value:', float(scaled_data.min()),\n",
    "      '\\nMaximum value:', float(scaled_data.max()))"
   ]
  },
  {
   "cell_type": "markdown",
   "id": "3c626060",
   "metadata": {
    "papermill": {
     "duration": 0.005306,
     "end_time": "2022-09-22T14:15:51.795562",
     "exception": false,
     "start_time": "2022-09-22T14:15:51.790256",
     "status": "completed"
    },
    "tags": []
   },
   "source": [
    "# 1) Practice scaling\n",
    "\n",
    "We just scaled the \"usd_goal_real\" column. What about the \"goal\" column?\n",
    "\n",
    "Begin by running the code cell below to create a DataFrame `original_goal_data` containing the \"goal\" column."
   ]
  },
  {
   "cell_type": "code",
   "execution_count": 4,
   "id": "1ef1d606",
   "metadata": {
    "execution": {
     "iopub.execute_input": "2022-09-22T14:15:51.808616Z",
     "iopub.status.busy": "2022-09-22T14:15:51.808227Z",
     "iopub.status.idle": "2022-09-22T14:15:51.814051Z",
     "shell.execute_reply": "2022-09-22T14:15:51.813088Z"
    },
    "papermill": {
     "duration": 0.015174,
     "end_time": "2022-09-22T14:15:51.816319",
     "exception": false,
     "start_time": "2022-09-22T14:15:51.801145",
     "status": "completed"
    },
    "tags": []
   },
   "outputs": [],
   "source": [
    "# select the usd_goal_real column\n",
    "original_goal_data = pd.DataFrame(kickstarters_2017.goal)"
   ]
  },
  {
   "cell_type": "markdown",
   "id": "79ec2d8c",
   "metadata": {
    "papermill": {
     "duration": 0.005492,
     "end_time": "2022-09-22T14:15:51.828367",
     "exception": false,
     "start_time": "2022-09-22T14:15:51.822875",
     "status": "completed"
    },
    "tags": []
   },
   "source": [
    "Use `original_goal_data` to create a new DataFrame `scaled_goal_data` with values scaled between 0 and 1. You must use the `minmax_scaling()` function."
   ]
  },
  {
   "cell_type": "code",
   "execution_count": 5,
   "id": "b6d37a5c",
   "metadata": {
    "execution": {
     "iopub.execute_input": "2022-09-22T14:15:51.843027Z",
     "iopub.status.busy": "2022-09-22T14:15:51.842044Z",
     "iopub.status.idle": "2022-09-22T14:15:51.874850Z",
     "shell.execute_reply": "2022-09-22T14:15:51.873747Z"
    },
    "papermill": {
     "duration": 0.043453,
     "end_time": "2022-09-22T14:15:51.877431",
     "exception": false,
     "start_time": "2022-09-22T14:15:51.833978",
     "status": "completed"
    },
    "tags": []
   },
   "outputs": [
    {
     "data": {
      "application/javascript": [
       "parent.postMessage({\"jupyterEvent\": \"custom.exercise_interaction\", \"data\": {\"outcomeType\": 1, \"valueTowardsCompletion\": 0.3333333333333333, \"interactionType\": 1, \"questionType\": 1, \"questionId\": \"1_TryScaling\", \"learnToolsVersion\": \"0.3.4\", \"failureMessage\": \"\", \"exceptionClass\": \"\", \"trace\": \"\"}}, \"*\")"
      ],
      "text/plain": [
       "<IPython.core.display.Javascript object>"
      ]
     },
     "metadata": {},
     "output_type": "display_data"
    },
    {
     "data": {
      "text/markdown": [
       "<span style=\"color:#33cc33\">Correct</span>"
      ],
      "text/plain": [
       "Correct"
      ]
     },
     "metadata": {},
     "output_type": "display_data"
    }
   ],
   "source": [
    "# TODO: Your code here\n",
    "scaled_goal_data = minmax_scaling(original_goal_data, columns=['goal'])\n",
    "# Check your answer\n",
    "q1.check()"
   ]
  },
  {
   "cell_type": "code",
   "execution_count": 6,
   "id": "2daf4adb",
   "metadata": {
    "execution": {
     "iopub.execute_input": "2022-09-22T14:15:51.891895Z",
     "iopub.status.busy": "2022-09-22T14:15:51.891458Z",
     "iopub.status.idle": "2022-09-22T14:15:51.896082Z",
     "shell.execute_reply": "2022-09-22T14:15:51.895004Z"
    },
    "papermill": {
     "duration": 0.014742,
     "end_time": "2022-09-22T14:15:51.898378",
     "exception": false,
     "start_time": "2022-09-22T14:15:51.883636",
     "status": "completed"
    },
    "tags": []
   },
   "outputs": [],
   "source": [
    "# Lines below will give you a hint or solution code\n",
    "#q1.hint()\n",
    "#q1.solution()"
   ]
  },
  {
   "cell_type": "markdown",
   "id": "5a72313d",
   "metadata": {
    "papermill": {
     "duration": 0.005617,
     "end_time": "2022-09-22T14:15:51.909926",
     "exception": false,
     "start_time": "2022-09-22T14:15:51.904309",
     "status": "completed"
    },
    "tags": []
   },
   "source": [
    "# 2) Practice normalization\n",
    "\n",
    "Now you'll practice normalization. We begin by normalizing the amount of money pledged to each campaign."
   ]
  },
  {
   "cell_type": "code",
   "execution_count": 7,
   "id": "24082ffb",
   "metadata": {
    "execution": {
     "iopub.execute_input": "2022-09-22T14:15:51.923583Z",
     "iopub.status.busy": "2022-09-22T14:15:51.922779Z",
     "iopub.status.idle": "2022-09-22T14:15:52.160567Z",
     "shell.execute_reply": "2022-09-22T14:15:52.159116Z"
    },
    "papermill": {
     "duration": 0.24767,
     "end_time": "2022-09-22T14:15:52.163413",
     "exception": false,
     "start_time": "2022-09-22T14:15:51.915743",
     "status": "completed"
    },
    "tags": []
   },
   "outputs": [
    {
     "name": "stdout",
     "output_type": "stream",
     "text": [
      "Original data\n",
      "Preview:\n",
      " 1     2421.0\n",
      "2      220.0\n",
      "3        1.0\n",
      "4     1283.0\n",
      "5    52375.0\n",
      "Name: usd_pledged_real, dtype: float64\n",
      "Minimum value: 0.45 \n",
      "Maximum value: 20338986.27\n",
      "______________________________\n",
      "\n",
      "Normalized data\n",
      "Preview:\n",
      " 1    10.165142\n",
      "2     6.468598\n",
      "3     0.000000\n",
      "4     9.129277\n",
      "5    15.836853\n",
      "Name: usd_pledged_real, dtype: float64\n",
      "Minimum value: -0.7779954122762203 \n",
      "Maximum value: 30.69054020451361\n"
     ]
    }
   ],
   "source": [
    "# get the index of all positive pledges (Box-Cox only takes positive values)\n",
    "index_of_positive_pledges = kickstarters_2017.usd_pledged_real > 0\n",
    "\n",
    "# get only positive pledges (using their indexes)\n",
    "positive_pledges = kickstarters_2017.usd_pledged_real.loc[index_of_positive_pledges]\n",
    "\n",
    "# normalize the pledges (w/ Box-Cox)\n",
    "normalized_pledges = pd.Series(stats.boxcox(positive_pledges)[0], \n",
    "                               name='usd_pledged_real', index=positive_pledges.index)\n",
    "\n",
    "print('Original data\\nPreview:\\n', positive_pledges.head())\n",
    "print('Minimum value:', float(positive_pledges.min()),\n",
    "      '\\nMaximum value:', float(positive_pledges.max()))\n",
    "print('_'*30)\n",
    "\n",
    "print('\\nNormalized data\\nPreview:\\n', normalized_pledges.head())\n",
    "print('Minimum value:', float(normalized_pledges.min()),\n",
    "      '\\nMaximum value:', float(normalized_pledges.max()))"
   ]
  },
  {
   "cell_type": "markdown",
   "id": "85352174",
   "metadata": {
    "papermill": {
     "duration": 0.005768,
     "end_time": "2022-09-22T14:15:52.175511",
     "exception": false,
     "start_time": "2022-09-22T14:15:52.169743",
     "status": "completed"
    },
    "tags": []
   },
   "source": [
    "The values have changed significantly with normalization!\n",
    "\n",
    "In the next code cell, you'll take a look at the distribution of the normalized data, where it should now resemble a normal distribution."
   ]
  },
  {
   "cell_type": "code",
   "execution_count": 8,
   "id": "139e1127",
   "metadata": {
    "execution": {
     "iopub.execute_input": "2022-09-22T14:15:52.189289Z",
     "iopub.status.busy": "2022-09-22T14:15:52.188875Z",
     "iopub.status.idle": "2022-09-22T14:15:54.322456Z",
     "shell.execute_reply": "2022-09-22T14:15:54.321315Z"
    },
    "papermill": {
     "duration": 2.143482,
     "end_time": "2022-09-22T14:15:54.324956",
     "exception": false,
     "start_time": "2022-09-22T14:15:52.181474",
     "status": "completed"
    },
    "tags": []
   },
   "outputs": [
    {
     "data": {
      "image/png": "[encoded data removed]",
      "text/plain": [
       "<Figure size 432x288 with 1 Axes>"
      ]
     },
     "metadata": {
      "needs_background": "light"
     },
     "output_type": "display_data"
    }
   ],
   "source": [
    "# plot normalized data\n",
    "ax = sns.histplot(normalized_pledges, kde=True)\n",
    "ax.set_title(\"Normalized data\")\n",
    "plt.show()"
   ]
  },
  {
   "cell_type": "markdown",
   "id": "39e79341",
   "metadata": {
    "papermill": {
     "duration": 0.006049,
     "end_time": "2022-09-22T14:15:54.337564",
     "exception": false,
     "start_time": "2022-09-22T14:15:54.331515",
     "status": "completed"
    },
    "tags": []
   },
   "source": [
    "We used the \"usd_pledged_real\" column. Follow the same process to normalize the \"pledged\" column. "
   ]
  },
  {
   "cell_type": "code",
   "execution_count": 9,
   "id": "e63cb256",
   "metadata": {
    "execution": {
     "iopub.execute_input": "2022-09-22T14:15:54.352357Z",
     "iopub.status.busy": "2022-09-22T14:15:54.351898Z",
     "iopub.status.idle": "2022-09-22T14:15:56.790459Z",
     "shell.execute_reply": "2022-09-22T14:15:56.789464Z"
    },
    "papermill": {
     "duration": 2.449513,
     "end_time": "2022-09-22T14:15:56.793385",
     "exception": false,
     "start_time": "2022-09-22T14:15:54.343872",
     "status": "completed"
    },
    "tags": []
   },
   "outputs": [
    {
     "data": {
      "text/plain": [
       "Text(0.5, 1.0, 'Normalized data')"
      ]
     },
     "execution_count": 9,
     "metadata": {},
     "output_type": "execute_result"
    },
    {
     "data": {
      "image/png": "[encoded data removed]",
      "text/plain": [
       "<Figure size 432x288 with 1 Axes>"
      ]
     },
     "metadata": {
      "needs_background": "light"
     },
     "output_type": "display_data"
    }
   ],
   "source": [
    "# get the index of all positive pledges (Box-Cox only takes positive values)\n",
    "index_positive_pledges = kickstarters_2017.pledged > 0\n",
    "\n",
    "# get only positive pledges (using their indexes)\n",
    "positive_pledges_only = kickstarters_2017.pledged.loc[index_positive_pledges]\n",
    "\n",
    "# normalize the pledges (w/ Box-Cox)\n",
    "normalized_values = pd.Series(stats.boxcox(positive_pledges_only)[0], \n",
    "                              name='pledged', index=positive_pledges_only.index)\n",
    "\n",
    "# plot normalized data\n",
    "ax = sns.histplot(normalized_values, kde=True)\n",
    "ax.set_title(\"Normalized data\")"
   ]
  },
  {
   "cell_type": "code",
   "execution_count": 10,
   "id": "d07fd5de",
   "metadata": {
    "execution": {
     "iopub.execute_input": "2022-09-22T14:15:56.810549Z",
     "iopub.status.busy": "2022-09-22T14:15:56.810138Z",
     "iopub.status.idle": "2022-09-22T14:15:59.289743Z",
     "shell.execute_reply": "2022-09-22T14:15:59.288379Z"
    },
    "papermill": {
     "duration": 2.491261,
     "end_time": "2022-09-22T14:15:59.292324",
     "exception": false,
     "start_time": "2022-09-22T14:15:56.801063",
     "status": "completed"
    },
    "tags": []
   },
   "outputs": [
    {
     "data": {
      "text/plain": [
       "Text(0.5, 1.0, 'Normalized data')"
      ]
     },
     "execution_count": 10,
     "metadata": {},
     "output_type": "execute_result"
    },
    {
     "data": {
      "image/png": "[encoded data removed]",
      "text/plain": [
       "<Figure size 432x288 with 1 Axes>"
      ]
     },
     "metadata": {
      "needs_background": "light"
     },
     "output_type": "display_data"
    }
   ],
   "source": [
    "# TODO: Your co# get the index of all positive pledges (Box-Cox only takes positive values)\n",
    "index_of_positive_pledges = kickstarters_2017.pledged > 0\n",
    "\n",
    "# get only positive pledges (using their indexes)\n",
    "positive_pledges = kickstarters_2017.pledged.loc[index_of_positive_pledges]\n",
    "\n",
    "# normalize the pledges (w/ Box-Cox)\n",
    "normalized_pledges = pd.Series(stats.boxcox(positive_pledges)[0], \n",
    "                               name='usd_pledged_real', index=positive_pledges.index)\n",
    "\n",
    "\n",
    "ax = sns.histplot(normalized_pledges, kde=True)\n",
    "ax.set_title(\"Normalized data\")\n"
   ]
  },
  {
   "cell_type": "markdown",
   "id": "60fc460f",
   "metadata": {
    "papermill": {
     "duration": 0.00696,
     "end_time": "2022-09-22T14:15:59.306700",
     "exception": false,
     "start_time": "2022-09-22T14:15:59.299740",
     "status": "completed"
    },
    "tags": []
   },
   "source": [
    "How does the normalized \"usd_pledged_real\" column look different from when we normalized the \"pledged\" column?  Or, do they look mostly the same?\n",
    "\n",
    "Once you have an answer, run the code cell below."
   ]
  },
  {
   "cell_type": "code",
   "execution_count": 11,
   "id": "1b109c34",
   "metadata": {
    "execution": {
     "iopub.execute_input": "2022-09-22T14:15:59.323080Z",
     "iopub.status.busy": "2022-09-22T14:15:59.322653Z",
     "iopub.status.idle": "2022-09-22T14:15:59.330330Z",
     "shell.execute_reply": "2022-09-22T14:15:59.329409Z"
    },
    "papermill": {
     "duration": 0.018268,
     "end_time": "2022-09-22T14:15:59.332317",
     "exception": false,
     "start_time": "2022-09-22T14:15:59.314049",
     "status": "completed"
    },
    "tags": []
   },
   "outputs": [
    {
     "data": {
      "application/javascript": [
       "parent.postMessage({\"jupyterEvent\": \"custom.exercise_interaction\", \"data\": {\"outcomeType\": 1, \"valueTowardsCompletion\": 0.3333333333333333, \"interactionType\": 1, \"questionType\": 4, \"questionId\": \"2_TryNormalization\", \"learnToolsVersion\": \"0.3.4\", \"failureMessage\": \"\", \"exceptionClass\": \"\", \"trace\": \"\"}}, \"*\")"
      ],
      "text/plain": [
       "<IPython.core.display.Javascript object>"
      ]
     },
     "metadata": {},
     "output_type": "display_data"
    },
    {
     "data": {
      "text/markdown": [
       "<span style=\"color:#33cc33\">Correct:</span> \n",
       "\n",
       "The distributions in the normalized data look mostly the same."
      ],
      "text/plain": [
       "Correct: \n",
       "\n",
       "The distributions in the normalized data look mostly the same."
      ]
     },
     "metadata": {},
     "output_type": "display_data"
    }
   ],
   "source": [
    "# Check your answer (Run this code cell to receive credit!)\n",
    "q2.check()"
   ]
  },
  {
   "cell_type": "code",
   "execution_count": 12,
   "id": "6f23ef0c",
   "metadata": {
    "execution": {
     "iopub.execute_input": "2022-09-22T14:15:59.349155Z",
     "iopub.status.busy": "2022-09-22T14:15:59.348674Z",
     "iopub.status.idle": "2022-09-22T14:15:59.356366Z",
     "shell.execute_reply": "2022-09-22T14:15:59.355404Z"
    },
    "papermill": {
     "duration": 0.018652,
     "end_time": "2022-09-22T14:15:59.358373",
     "exception": false,
     "start_time": "2022-09-22T14:15:59.339721",
     "status": "completed"
    },
    "tags": []
   },
   "outputs": [
    {
     "data": {
      "application/javascript": [
       "parent.postMessage({\"jupyterEvent\": \"custom.exercise_interaction\", \"data\": {\"interactionType\": 2, \"questionType\": 4, \"questionId\": \"2_TryNormalization\", \"learnToolsVersion\": \"0.3.4\", \"valueTowardsCompletion\": 0.0, \"failureMessage\": \"\", \"exceptionClass\": \"\", \"trace\": \"\", \"outcomeType\": 4}}, \"*\")"
      ],
      "text/plain": [
       "<IPython.core.display.Javascript object>"
      ]
     },
     "metadata": {},
     "output_type": "display_data"
    },
    {
     "data": {
      "text/markdown": [
       "<span style=\"color:#3366cc\">Hint:</span> \n",
       "Try running this code:\n",
       "\n",
       "```python\n",
       "# get the index of all positive pledges (Box-Cox only takes positive values)\n",
       "index_positive_pledges = kickstarters_2017.pledged > 0\n",
       "\n",
       "# get only positive pledges (using their indexes)\n",
       "positive_pledges_only = kickstarters_2017.pledged.loc[index_positive_pledges]\n",
       "\n",
       "# normalize the pledges (w/ Box-Cox)\n",
       "normalized_values = pd.Series(stats.boxcox(positive_pledges_only)[0], \n",
       "                              name='pledged', index=positive_pledges_only.index)\n",
       "\n",
       "# plot normalized data\n",
       "ax = sns.histplot(normalized_values, kde=True)\n",
       "ax.set_title(\"Normalized data\")\n",
       "```\n",
       "\n"
      ],
      "text/plain": [
       "Hint: \n",
       "Try running this code:\n",
       "\n",
       "```python\n",
       "# get the index of all positive pledges (Box-Cox only takes positive values)\n",
       "index_positive_pledges = kickstarters_2017.pledged > 0\n",
       "\n",
       "# get only positive pledges (using their indexes)\n",
       "positive_pledges_only = kickstarters_2017.pledged.loc[index_positive_pledges]\n",
       "\n",
       "# normalize the pledges (w/ Box-Cox)\n",
       "normalized_values = pd.Series(stats.boxcox(positive_pledges_only)[0], \n",
       "                              name='pledged', index=positive_pledges_only.index)\n",
       "\n",
       "# plot normalized data\n",
       "ax = sns.histplot(normalized_values, kde=True)\n",
       "ax.set_title(\"Normalized data\")\n",
       "```\n"
      ]
     },
     "metadata": {},
     "output_type": "display_data"
    }
   ],
   "source": [
    "# Line below will give you a hint\n",
    "q2.hint()"
   ]
  },
  {
   "cell_type": "markdown",
   "id": "0f1c155b",
   "metadata": {
    "papermill": {
     "duration": 0.007475,
     "end_time": "2022-09-22T14:15:59.373741",
     "exception": false,
     "start_time": "2022-09-22T14:15:59.366266",
     "status": "completed"
    },
    "tags": []
   },
   "source": [
    "# (Optional) More practice\n",
    "\n",
    "Try finding a new dataset and pretend you're preparing to perform a [regression analysis](https://www.kaggle.com/rtatman/the-5-day-regression-challenge). \n",
    "\n",
    "[These datasets are a good start!](https://www.kaggle.com/rtatman/datasets-for-regression-analysis)\n",
    "\n",
    "Pick three or four variables and decide if you need to normalize or scale any of them and, if you think you should, practice applying the correct technique.\n",
    "\n",
    "# Keep going\n",
    "\n",
    "In the next lesson, learn how to [**parse dates**](https://www.kaggle.com/alexisbcook/parsing-dates) in a dataset."
   ]
  },
  {
   "cell_type": "markdown",
   "id": "1cbacb6a",
   "metadata": {
    "papermill": {
     "duration": 0.007452,
     "end_time": "2022-09-22T14:15:59.389043",
     "exception": false,
     "start_time": "2022-09-22T14:15:59.381591",
     "status": "completed"
    },
    "tags": []
   },
   "source": [
    "---\n",
    "\n",
    "\n",
    "\n",
    "\n",
    "*Have questions or comments? Visit the [course discussion forum](https://www.kaggle.com/learn/data-cleaning/discussion) to chat with other learners.*"
   ]
  }
 ],
 "metadata": {
  "kernelspec": {
   "display_name": "Python 3",
   "language": "python",
   "name": "python3"
  },
  "language_info": {
   "codemirror_mode": {
    "name": "ipython",
    "version": 3
   },
   "file_extension": ".py",
   "mimetype": "text/x-python",
   "name": "python",
   "nbconvert_exporter": "python",
   "pygments_lexer": "ipython3",
   "version": "3.7.12"
  },
  "papermill": {
   "default_parameters": {},
   "duration": 23.739681,
   "end_time": "2022-09-22T14:16:00.219804",
   "environment_variables": {},
   "exception": null,
   "input_path": "__notebook__.ipynb",
   "output_path": "__notebook__.ipynb",
   "parameters": {},
   "start_time": "2022-09-22T14:15:36.480123",
   "version": "2.3.4"
  }
 },
 "nbformat": 4,
 "nbformat_minor": 5
}
